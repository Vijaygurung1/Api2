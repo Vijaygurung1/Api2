{
 "cells": [
  {
   "cell_type": "markdown",
   "id": "cc5af698",
   "metadata": {},
   "source": [
    "# Question : 1\n",
    "\n",
    "- Lets Understand the this line of code which I have written ->\n",
    "#  \"user_db[user_id] = user.dict()\""
   ]
  },
  {
   "cell_type": "markdown",
   "id": "52d4d520",
   "metadata": {},
   "source": [
    "- This is basically \"Dictionary\" or \"Dir\" from this class -> \n",
    "\n",
    "- class User(BaseModel):\n",
    "-    name:str\n",
    "-    age:int\n",
    "\n",
    "- I am going to pass \"Name\" & \"Age\", which means technically this kind of data will come -> \" 3:{\"name\": \"durga\", \"age\": 28}\"\n",
    "- This line code means - Dictionary operation, which I am trying to do.\n",
    "- This line - user_db[user_id]  : a user_db & [user_id], against this \"user_id\" - this one [ 1, 2 3 ], I am trying to pass some data,\n",
    "- this one -> \"user.dict()\""
   ]
  },
  {
   "cell_type": "markdown",
   "id": "d4f0aaca",
   "metadata": {},
   "source": [
    "- Lets understand one Dictionary example practically :\n"
   ]
  },
  {
   "cell_type": "code",
   "execution_count": 2,
   "id": "928cb24a",
   "metadata": {},
   "outputs": [],
   "source": [
    "my_dict = {\"name\": \"Alice\", \"age\": 30, \"city\": \"New York\"}"
   ]
  },
  {
   "cell_type": "code",
   "execution_count": 3,
   "id": "12599b9a",
   "metadata": {},
   "outputs": [],
   "source": [
    "my_dict[\"name\"]=\"vijay\""
   ]
  },
  {
   "cell_type": "code",
   "execution_count": 4,
   "id": "a45aa968",
   "metadata": {},
   "outputs": [
    {
     "data": {
      "text/plain": [
       "{'name': 'vijay', 'age': 30, 'city': 'New York'}"
      ]
     },
     "execution_count": 4,
     "metadata": {},
     "output_type": "execute_result"
    }
   ],
   "source": [
    "my_dict"
   ]
  },
  {
   "cell_type": "markdown",
   "id": "a860154e",
   "metadata": {},
   "source": [
    "- Lets say if I have update basically \"name\", then what I will do I will 1st access dictionary with \"name\",\n",
    "- Instead of \"Alice\", I will write \"Vijay\", which means I am trying to access Key as a \"name\" & try to change its value with \"vijay\".\n",
    "\n",
    "- Now, If I will call my dictionary as \"my_dict\".\n",
    "\n",
    "- As a outcome we can over here is that it replace the - \"Alice\" with the current one is \"vijay\".\n",
    "- So, basically I have done a \"Update\" operation."
   ]
  },
  {
   "cell_type": "markdown",
   "id": "b2cabc46",
   "metadata": {},
   "source": [
    "# Note : \n",
    "\n",
    "- So, the same thing we did here in this line of code -\n",
    "\n",
    "# [\"user_db[user_id] = user.dict()\"]\n",
    "\n",
    "- My key lets suppose, 1 is user_id\n",
    "- key = 1 \n",
    "- key = 2\n",
    "- key = 3 \n",
    "- & from this particular [ \"user_db\" ], I am trying to pass a new data, which is -> \"user.dict()\".\n",
    "\n",
    "- From where, I am getting the new data, after validating with \"Pydantic\" class."
   ]
  },
  {
   "cell_type": "markdown",
   "id": "e6a5d653",
   "metadata": {},
   "source": [
    "# Question No.2 : \n",
    "\n",
    "- Code Below :  \n",
    "\n",
    "# def user_update(user_id:int,user:User):"
   ]
  },
  {
   "cell_type": "markdown",
   "id": "842d0732",
   "metadata": {},
   "source": [
    "- So, basically this function take 2 input, one is the \"User_id\" & as per my data actually it works.\n",
    "- we always pass based on whatever we trying to update?\n",
    "\n",
    "- Lets say :\n",
    "\n",
    "- 1st of all I am trying to update this 1st one particular record -> \"1:{\"name\": \"vijay\", \"age\": 30}\".\n",
    "- So, how we will be able to update.\n",
    "- Lets say - I want to change the current name is in my dictionaryis \"Vijay\", & I want to change it.\n",
    "- So, to reach out to this \"Vijay\", 1st of all we have to reach out \"1\", then next \"name\" & then next \"vijay\" finally then it will change."
   ]
  },
  {
   "cell_type": "markdown",
   "id": "0384f1d0",
   "metadata": {},
   "source": [
    "# Lets understand practically"
   ]
  },
  {
   "cell_type": "code",
   "execution_count": 2,
   "id": "9fb97def",
   "metadata": {},
   "outputs": [],
   "source": [
    "# Lets take this data itself -\n",
    "\n",
    "user_db = {\n",
    "    1:{\"name\": \"vijay\", \"age\": 30},\n",
    "    2:{\"name\": \"Ajenkiya\", \"age\": 25},\n",
    "    3:{\"name\": \"durga\", \"age\": 28}\n",
    "}"
   ]
  },
  {
   "cell_type": "markdown",
   "id": "b282899e",
   "metadata": {},
   "source": [
    "- Lets say, I have to update this 1st one record. -> 1:{\"name\": \"vijay\", \"age\": 30},\n",
    "- How will I do that, for this I will call the, \"user_db\" dictionary & I have to update record No.1 so, \n",
    "- I will call \"User_db[1]\", then we will get the 1st data."
   ]
  },
  {
   "cell_type": "code",
   "execution_count": 3,
   "id": "f4f961f3",
   "metadata": {},
   "outputs": [
    {
     "data": {
      "text/plain": [
       "{'name': 'vijay', 'age': 30}"
      ]
     },
     "execution_count": 3,
     "metadata": {},
     "output_type": "execute_result"
    }
   ],
   "source": [
    "user_db[1]"
   ]
  },
  {
   "cell_type": "markdown",
   "id": "b2e30f9c",
   "metadata": {},
   "source": [
    "# Update it\n",
    "- Lets say I want to update  it, then replace with the new data. lets take the \"gurung\".\n",
    "- If we execute it, as a outcome we can see we got the data.It updated.\n",
    "- previously it was \"Vijay\" it replace with the \"gurung\""
   ]
  },
  {
   "cell_type": "code",
   "execution_count": 4,
   "id": "bb4dbe6d",
   "metadata": {},
   "outputs": [],
   "source": [
    "user_db[1] = {\"name\": \"gurung\", \"age\": 30}"
   ]
  },
  {
   "cell_type": "code",
   "execution_count": 5,
   "id": "a19259bd",
   "metadata": {},
   "outputs": [
    {
     "data": {
      "text/plain": [
       "{1: {'name': 'gurung', 'age': 30},\n",
       " 2: {'name': 'Ajenkiya', 'age': 25},\n",
       " 3: {'name': 'durga', 'age': 28}}"
      ]
     },
     "execution_count": 5,
     "metadata": {},
     "output_type": "execute_result"
    }
   ],
   "source": [
    "user_db"
   ]
  },
  {
   "cell_type": "code",
   "execution_count": 13,
   "id": "b9529761",
   "metadata": {},
   "outputs": [],
   "source": [
    "# Lets say If I have to go into the 1st record [1] & into basically a \"name\", How I can go.\n",
    "# As a outcome, we can see that, we are able to fetch the name."
   ]
  },
  {
   "cell_type": "code",
   "execution_count": 6,
   "id": "b0ddc026",
   "metadata": {},
   "outputs": [
    {
     "data": {
      "text/plain": [
       "'gurung'"
      ]
     },
     "execution_count": 6,
     "metadata": {},
     "output_type": "execute_result"
    }
   ],
   "source": [
    "user_db[1][\"name\"]"
   ]
  },
  {
   "cell_type": "markdown",
   "id": "f2dfdb44",
   "metadata": {},
   "source": [
    "# This is for [\"Delete\"] operation Topic :"
   ]
  },
  {
   "cell_type": "markdown",
   "id": "253549cb",
   "metadata": {},
   "source": [
    "# For Example :\n",
    "\n",
    "- If I have a this dictionary \"User_db\" dictionary. I have to delect the record No 2.\n",
    "- "
   ]
  },
  {
   "cell_type": "code",
   "execution_count": 7,
   "id": "357d8769",
   "metadata": {},
   "outputs": [
    {
     "data": {
      "text/plain": [
       "{1: {'name': 'gurung', 'age': 30},\n",
       " 2: {'name': 'Ajenkiya', 'age': 25},\n",
       " 3: {'name': 'durga', 'age': 28}}"
      ]
     },
     "execution_count": 7,
     "metadata": {},
     "output_type": "execute_result"
    }
   ],
   "source": [
    "user_db"
   ]
  },
  {
   "cell_type": "markdown",
   "id": "9ce60854",
   "metadata": {},
   "source": [
    "# Delect records.\n",
    "- How I can delete record No.2 simply call the - \"Del\" function and the dirctionary name \"User_db\" & try to give record, which we want\n",
    "- to delect inside the bracket.\n",
    "- Now if we call or print \"User_db\", so as we can see it delected the record No.2 & we dnt have the record No.2,\n",
    "- Now we only have record No 1 and record no 3.\n"
   ]
  },
  {
   "cell_type": "code",
   "execution_count": 8,
   "id": "5b277167",
   "metadata": {},
   "outputs": [],
   "source": [
    "del user_db[2]"
   ]
  },
  {
   "cell_type": "code",
   "execution_count": 9,
   "id": "df83e00c",
   "metadata": {},
   "outputs": [
    {
     "data": {
      "text/plain": [
       "{1: {'name': 'gurung', 'age': 30}, 3: {'name': 'durga', 'age': 28}}"
      ]
     },
     "execution_count": 9,
     "metadata": {},
     "output_type": "execute_result"
    }
   ],
   "source": [
    "user_db"
   ]
  },
  {
   "cell_type": "code",
   "execution_count": null,
   "id": "72b0b524",
   "metadata": {},
   "outputs": [],
   "source": []
  }
 ],
 "metadata": {
  "kernelspec": {
   "display_name": "Python 3",
   "language": "python",
   "name": "python3"
  },
  "language_info": {
   "codemirror_mode": {
    "name": "ipython",
    "version": 3
   },
   "file_extension": ".py",
   "mimetype": "text/x-python",
   "name": "python",
   "nbconvert_exporter": "python",
   "pygments_lexer": "ipython3",
   "version": "3.13.7"
  }
 },
 "nbformat": 4,
 "nbformat_minor": 5
}
