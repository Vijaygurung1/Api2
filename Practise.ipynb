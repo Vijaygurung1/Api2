{
 "cells": [
  {
   "cell_type": "markdown",
   "id": "cc5af698",
   "metadata": {},
   "source": [
    "# Question : 1\n",
    "\n",
    "- Lets Understand the this line of code which I have written ->\n",
    "#  \"user_db[user_id] = user.dict()\""
   ]
  },
  {
   "cell_type": "markdown",
   "id": "52d4d520",
   "metadata": {},
   "source": [
    "- This is basically \"Dictionary\" or \"Dir\" from this class -> \n",
    "\n",
    "- class User(BaseModel):\n",
    "-    name:str\n",
    "-    age:int\n",
    "\n",
    "- I am going to pass \"Name\" & \"Age\", which means technically this kind of data will come -> \" 3:{\"name\": \"durga\", \"age\": 28}\"\n",
    "- This line code means - Dictionary operation, which I am trying to do.\n",
    "- This line - user_db[user_id]  : a user_db & [user_id], against this \"user_id\" - this one [ 1, 2 3 ], I am trying to pass some data,\n",
    "- this one -> \"user.dict()\""
   ]
  },
  {
   "cell_type": "markdown",
   "id": "d4f0aaca",
   "metadata": {},
   "source": [
    "- Lets understand one Dictionary example practically :\n"
   ]
  },
  {
   "cell_type": "code",
   "execution_count": null,
   "id": "dec12258",
   "metadata": {},
   "outputs": [
    {
     "ename": "",
     "evalue": "",
     "output_type": "error",
     "traceback": [
      "\u001b[1;31mRunning cells with 'venv (Python 3.10.18)' requires the ipykernel package.\n",
      "\u001b[1;31mInstall 'ipykernel' into the Python environment. \n",
      "\u001b[1;31mCommand: 'conda install -n venv ipykernel --update-deps --force-reinstall'"
     ]
    }
   ],
   "source": [
    "my_dict = {\"name\": \"Alice\", \"age\": 30, \"city\": \"New York\"}"
   ]
  },
  {
   "cell_type": "code",
   "execution_count": null,
   "id": "12599b9a",
   "metadata": {},
   "outputs": [],
   "source": [
    "my_dict[\"name\"]=\"vijay\""
   ]
  },
  {
   "cell_type": "code",
   "execution_count": null,
   "id": "a45aa968",
   "metadata": {},
   "outputs": [],
   "source": [
    "my_dict"
   ]
  },
  {
   "cell_type": "markdown",
   "id": "a860154e",
   "metadata": {},
   "source": [
    "- Lets say if I have update basically \"name\", then what I will do I will 1st access dictionary with \"name\",\n",
    "- Instead of \"Alice\", I will write \"Vijay\", which means I am trying to access Key as a \"name\" & try to change its value with \"vijay\".\n",
    "\n",
    "- Now, If I will call my dictionary as \"my_dict\".\n",
    "\n",
    "- As a outcome we can over here is that it replace the - \"Alice\" with the current one is \"vijay\".\n",
    "- So, basically I have done a \"Update\" operation."
   ]
  },
  {
   "cell_type": "markdown",
   "id": "b2cabc46",
   "metadata": {},
   "source": [
    "# Note : \n",
    "\n",
    "- So, the same thing we did here in this line of code -\n",
    "\n",
    "# [\"user_db[user_id] = user.dict()\"]\n",
    "\n",
    "- My key lets suppose, 1 is user_id\n",
    "- key = 1 \n",
    "- key = 2\n",
    "- key = 3 \n",
    "- & from this particular [ \"user_db\" ], I am trying to pass a new data, which is -> \"user.dict()\".\n",
    "\n",
    "- From where, I am getting the new data, after validating with \"Pydantic\" class."
   ]
  },
  {
   "cell_type": "markdown",
   "id": "e6a5d653",
   "metadata": {},
   "source": [
    "# Question No.2 : \n",
    "\n",
    "- Code Below :  \n",
    "\n",
    "# def user_update(user_id:int,user:User):"
   ]
  },
  {
   "cell_type": "markdown",
   "id": "842d0732",
   "metadata": {},
   "source": [
    "- So, basically this function take 2 input, one is the \"User_id\" & as per my data actually it works.\n",
    "- we always pass based on whatever we trying to update?\n",
    "\n",
    "- Lets say :\n",
    "\n",
    "- 1st of all I am trying to update this 1st one particular record -> \"1:{\"name\": \"vijay\", \"age\": 30}\".\n",
    "- So, how we will be able to update.\n",
    "- Lets say - I want to change the current name is in my dictionaryis \"Vijay\", & I want to change it.\n",
    "- So, to reach out to this \"Vijay\", 1st of all we have to reach out \"1\", then next \"name\" & then next \"vijay\" finally then it will change."
   ]
  },
  {
   "cell_type": "markdown",
   "id": "0384f1d0",
   "metadata": {},
   "source": [
    "# Lets understand practically"
   ]
  },
  {
   "cell_type": "code",
   "execution_count": null,
   "id": "9fb97def",
   "metadata": {},
   "outputs": [],
   "source": [
    "- Lets take this data itself -\n",
    "\n",
    "user_db = {\n",
    "    1:{\"name\": \"vijay\", \"age\": 30},\n",
    "    2:{\"name\": \"Ajenkiya\", \"age\": 25},\n",
    "    3:{\"name\": \"durga\", \"age\": 28}\n",
    "}"
   ]
  },
  {
   "cell_type": "code",
   "execution_count": null,
   "id": "5a7205c0",
   "metadata": {},
   "outputs": [],
   "source": [
    "- Lets say, I have to update this 1st one record. \n",
    "- How will I do that, for this I will call the "
   ]
  },
  {
   "cell_type": "code",
   "execution_count": null,
   "id": "f4f961f3",
   "metadata": {},
   "outputs": [],
   "source": []
  }
 ],
 "metadata": {
  "kernelspec": {
   "display_name": "venv",
   "language": "python",
   "name": "python3"
  },
  "language_info": {
   "name": "python",
   "version": "3.10.18"
  }
 },
 "nbformat": 4,
 "nbformat_minor": 5
}
